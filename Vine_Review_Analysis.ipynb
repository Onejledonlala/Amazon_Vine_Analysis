{
  "nbformat": 4,
  "nbformat_minor": 0,
  "metadata": {
    "colab": {
      "name": "Vine_Review_Analysis.ipynb",
      "provenance": [],
      "collapsed_sections": [],
      "authorship_tag": "ABX9TyMS4VBT4BQuosUq59B1JuMb",
      "include_colab_link": true
    },
    "kernelspec": {
      "name": "python3",
      "display_name": "Python 3"
    },
    "language_info": {
      "name": "python"
    }
  },
  "cells": [
    {
      "cell_type": "markdown",
      "metadata": {
        "id": "view-in-github",
        "colab_type": "text"
      },
      "source": [
        "<a href=\"https://colab.research.google.com/github/Onejledonlala/Amazon_Vine_Analysis/blob/main/Vine_Review_Analysis.ipynb\" target=\"_parent\"><img src=\"https://colab.research.google.com/assets/colab-badge.svg\" alt=\"Open In Colab\"/></a>"
      ]
    },
    {
      "cell_type": "code",
      "metadata": {
        "colab": {
          "base_uri": "https://localhost:8080/"
        },
        "id": "Ld1C1TubKqNu",
        "outputId": "28e4fdd8-2b84-43e9-f75a-f6a5d2905c0b"
      },
      "source": [
        "import os\n",
        "# Find the latest version of spark 3.0  from http://www-us.apache.org/dist/spark/ and enter as the spark version\n",
        "# For example:\n",
        "# spark_version = 'spark-3.0.2'\n",
        "spark_version = 'spark-3.0.2'\n",
        "os.environ['SPARK_VERSION']=spark_version\n",
        "\n",
        "# Install Spark and Java\n",
        "!apt-get update\n",
        "!apt-get install openjdk-11-jdk-headless -qq > /dev/null\n",
        "!wget -q http://www-us.apache.org/dist/spark/$SPARK_VERSION/$SPARK_VERSION-bin-hadoop2.7.tgz\n",
        "!tar xf $SPARK_VERSION-bin-hadoop2.7.tgz\n",
        "!pip install -q findspark\n",
        "\n",
        "# Set Environment Variables\n",
        "import os\n",
        "os.environ[\"JAVA_HOME\"] = \"/usr/lib/jvm/java-11-openjdk-amd64\"\n",
        "os.environ[\"SPARK_HOME\"] = f\"/content/{spark_version}-bin-hadoop2.7\"\n",
        "\n",
        "# Start a SparkSession\n",
        "import findspark\n",
        "findspark.init()"
      ],
      "execution_count": 1,
      "outputs": [
        {
          "output_type": "stream",
          "text": [
            "\r0% [Working]\r            \rGet:1 http://security.ubuntu.com/ubuntu bionic-security InRelease [88.7 kB]\n",
            "\r0% [Connecting to archive.ubuntu.com (91.189.88.142)] [1 InRelease 14.2 kB/88.7\r                                                                               \rGet:2 https://cloud.r-project.org/bin/linux/ubuntu bionic-cran40/ InRelease [3,626 B]\n",
            "Ign:3 https://developer.download.nvidia.com/compute/cuda/repos/ubuntu1804/x86_64  InRelease\n",
            "Hit:4 http://archive.ubuntu.com/ubuntu bionic InRelease\n",
            "Get:5 http://ppa.launchpad.net/c2d4u.team/c2d4u4.0+/ubuntu bionic InRelease [15.9 kB]\n",
            "Ign:6 https://developer.download.nvidia.com/compute/machine-learning/repos/ubuntu1804/x86_64  InRelease\n",
            "Get:7 https://developer.download.nvidia.com/compute/cuda/repos/ubuntu1804/x86_64  Release [697 B]\n",
            "Hit:8 https://developer.download.nvidia.com/compute/machine-learning/repos/ubuntu1804/x86_64  Release\n",
            "Get:9 https://developer.download.nvidia.com/compute/cuda/repos/ubuntu1804/x86_64  Release.gpg [836 B]\n",
            "Get:10 http://archive.ubuntu.com/ubuntu bionic-updates InRelease [88.7 kB]\n",
            "Hit:11 http://ppa.launchpad.net/cran/libgit2/ubuntu bionic InRelease\n",
            "Get:12 http://archive.ubuntu.com/ubuntu bionic-backports InRelease [74.6 kB]\n",
            "Get:13 http://ppa.launchpad.net/deadsnakes/ppa/ubuntu bionic InRelease [15.9 kB]\n",
            "Get:14 http://security.ubuntu.com/ubuntu bionic-security/universe amd64 Packages [1,414 kB]\n",
            "Get:15 http://security.ubuntu.com/ubuntu bionic-security/main amd64 Packages [2,184 kB]\n",
            "Get:16 http://security.ubuntu.com/ubuntu bionic-security/restricted amd64 Packages [450 kB]\n",
            "Hit:17 http://ppa.launchpad.net/graphics-drivers/ppa/ubuntu bionic InRelease\n",
            "Ign:19 https://developer.download.nvidia.com/compute/cuda/repos/ubuntu1804/x86_64  Packages\n",
            "Get:19 https://developer.download.nvidia.com/compute/cuda/repos/ubuntu1804/x86_64  Packages [799 kB]\n",
            "Get:20 http://ppa.launchpad.net/c2d4u.team/c2d4u4.0+/ubuntu bionic/main Sources [1,770 kB]\n",
            "Get:21 http://archive.ubuntu.com/ubuntu bionic-updates/main amd64 Packages [2,616 kB]\n",
            "Get:22 http://archive.ubuntu.com/ubuntu bionic-updates/restricted amd64 Packages [480 kB]\n",
            "Get:23 http://ppa.launchpad.net/c2d4u.team/c2d4u4.0+/ubuntu bionic/main amd64 Packages [906 kB]\n",
            "Get:24 http://archive.ubuntu.com/ubuntu bionic-updates/multiverse amd64 Packages [33.5 kB]\n",
            "Get:25 http://archive.ubuntu.com/ubuntu bionic-updates/universe amd64 Packages [2,184 kB]\n",
            "Get:26 http://ppa.launchpad.net/deadsnakes/ppa/ubuntu bionic/main amd64 Packages [40.9 kB]\n",
            "Fetched 13.2 MB in 4s (3,510 kB/s)\n",
            "Reading package lists... Done\n"
          ],
          "name": "stdout"
        }
      ]
    },
    {
      "cell_type": "code",
      "metadata": {
        "id": "1K7ON1MQKwjw"
      },
      "source": [
        "# Start Spark session\n",
        "from pyspark.sql import SparkSession\n",
        "spark = SparkSession.builder.appName(\"DataFrameBasics\").getOrCreate()"
      ],
      "execution_count": 2,
      "outputs": []
    },
    {
      "cell_type": "code",
      "metadata": {
        "id": "_Xtsg7lMNkgH"
      },
      "source": [
        "# Import struct fields that we can use\n",
        "from pyspark.sql.types import StructField, StringType, IntegerType, StructType, DateType"
      ],
      "execution_count": 3,
      "outputs": []
    },
    {
      "cell_type": "code",
      "metadata": {
        "colab": {
          "base_uri": "https://localhost:8080/"
        },
        "id": "AQggNZxBNnzf",
        "outputId": "69d27af9-649c-43a3-fc86-78e1f40c4425"
      },
      "source": [
        "from pyspark import SparkFiles\n",
        "url = \"https://s3.amazonaws.com/amazon-reviews-pds/tsv/amazon_reviews_us_Musical_Instruments_v1_00.tsv.gz\"\n",
        "spark.sparkContext.addFile(url)\n",
        "df = spark.read.option(\"encoding\", \"UTF-8\").csv(SparkFiles.get(\"\"), sep=\"\\t\", header=True, inferSchema=True)\n",
        "df.show()\n",
        "df.count()"
      ],
      "execution_count": 7,
      "outputs": [
        {
          "output_type": "stream",
          "text": [
            "+-----------+-----------+--------------+----------+--------------+--------------------+-------------------+-----------+-------------+-----------+----+-----------------+--------------------+--------------------+-----------+\n",
            "|marketplace|customer_id|     review_id|product_id|product_parent|       product_title|   product_category|star_rating|helpful_votes|total_votes|vine|verified_purchase|     review_headline|         review_body|review_date|\n",
            "+-----------+-----------+--------------+----------+--------------+--------------------+-------------------+-----------+-------------+-----------+----+-----------------+--------------------+--------------------+-----------+\n",
            "|         US|   45610553| RMDCHWD0Y5OZ9|B00HH62VB6|     618218723|AGPtek® 10 Isolat...|Musical Instruments|          3|            0|          1|   N|                N|         Three Stars|Works very good, ...| 2015-08-31|\n",
            "|         US|   14640079| RZSL0BALIYUNU|B003LRN53I|     986692292|Sennheiser HD203 ...|Musical Instruments|          5|            0|          0|   N|                Y|          Five Stars|Nice headphones a...| 2015-08-31|\n",
            "|         US|    6111003| RIZR67JKUDBI0|B0006VMBHI|     603261968|AudioQuest LP rec...|Musical Instruments|          3|            0|          1|   N|                Y|         Three Stars|removes dust. doe...| 2015-08-31|\n",
            "|         US|    1546619|R27HL570VNL85F|B002B55TRG|     575084461|Hohner Inc. 560BX...|Musical Instruments|          5|            0|          0|   N|                Y|I purchase these ...|I purchase these ...| 2015-08-31|\n",
            "|         US|   12222213|R34EBU9QDWJ1GD|B00N1YPXW2|     165236328|Blue Yeti USB Mic...|Musical Instruments|          5|            0|          0|   N|                Y|          Five Stars|This is an awesom...| 2015-08-31|\n",
            "|         US|   46018513|R1WCUI4Z1SIQEO|B001N4GRGS|     134151483|Middle Atlantic P...|Musical Instruments|          5|            0|          0|   N|                N|          Five Stars|Used to cool equi...| 2015-08-31|\n",
            "|         US|   10225065| RL5LNO26GAVJ1|B009PJRMHQ|     694166585|Kmise 1pc Pickgua...|Musical Instruments|          2|            3|          4|   N|                Y|Will not Fit Epip...|Note- Does not Fi...| 2015-08-31|\n",
            "|         US|    6356995|R3GYQ5W8JHP8SB|B00NKBDAZS|     446431775|Kealoha Concert U...|Musical Instruments|          5|            0|          0|   N|                Y|          Five Stars|Well built Ukulel...| 2015-08-31|\n",
            "|         US|   35297198|R30SHYQXGG5EYC|B006MIU7U2|     125871705|Halco 80000 - MR1...|Musical Instruments|          5|            0|          0|   N|                Y|Works fine. Hope ...|Had to replace a ...| 2015-08-31|\n",
            "|         US|   32139520|R14YLXA56NP51I|B000FIBD0I|     771888534|Gator GPTBLACK Pl...|Musical Instruments|          5|            1|          1|   N|                N|I upgraded the po...|I've owned multip...| 2015-08-31|\n",
            "|         US|   36060782|R1ZH0HSH38IOTZ|B0002E52GG|      68535945|Hetman 1 - Light ...|Musical Instruments|          5|            0|          0|   N|                Y|My son's favourit...|Consistent qualit...| 2015-08-31|\n",
            "|         US|    5301309|R3H53KLLC210XI|B00RZIH52G|     725541773|Dragonpad pop fil...|Musical Instruments|          4|            0|          0|   N|                Y|Great pop filter ...|by far the best p...| 2015-08-31|\n",
            "|         US|   37472935|R3OOR877NGA8JK|B001792BAU|      46570323|DharmaObjects Rel...|Musical Instruments|          3|            0|          0|   N|                Y|                  Ok|Beautiful set. On...| 2015-08-31|\n",
            "|         US|   33578270|R1BY7WKOZ3KMH0|B009GSKW1Y|     547963417|Musiclily SSS Pla...|Musical Instruments|          2|            0|          0|   N|                Y|           Two Stars|Bridge pickup was...| 2015-08-31|\n",
            "|         US|   22070226| RXP1TFSWE8EG9|B0002F4TKA|     436074323|Vic Firth America...|Musical Instruments|          5|            0|          0|   N|                Y|          Five Stars|Feels good and la...| 2015-08-31|\n",
            "|         US|   52862655|R3J44DPP12OTLJ|B00K17YFBW|      81933093|Guitar Stand for ...|Musical Instruments|          5|            0|          0|   N|                Y|Great stand... on...|I love the stand....| 2015-08-31|\n",
            "|         US|    4427243| RFOV69SK0T676|B00EQ24HJS|     669249276|Generic 3PLY Faux...|Musical Instruments|          5|            0|          0|   N|                Y|Looks great. You ...|On time. Looks gr...| 2015-08-31|\n",
            "|         US|   14108571|R2HUWDNW62FOL3|B00IBOYTUE|     749537231|Audio 2000 6525 3...|Musical Instruments|          1|            0|          0|   N|                Y|  Poor sound quality|I was hoping it w...| 2015-08-31|\n",
            "|         US|   27314089|R1KSU30XZGR452|B00FBRUSAE|     792472601|Sawtooth ST-AMP-1...|Musical Instruments|          5|            0|          0|   N|                Y|Perfect for the b...|Good sound for it...| 2015-08-31|\n",
            "|         US|   16735445|R2TZVLLTSHA07N|B0113D2QUO|     269114019|Upado Unlimited G...|Musical Instruments|          5|            1|          1|   N|                Y|It really is a mu...|Wow! I didn't exp...| 2015-08-31|\n",
            "+-----------+-----------+--------------+----------+--------------+--------------------+-------------------+-----------+-------------+-----------+----+-----------------+--------------------+--------------------+-----------+\n",
            "only showing top 20 rows\n",
            "\n"
          ],
          "name": "stdout"
        },
        {
          "output_type": "execute_result",
          "data": {
            "text/plain": [
              "904765"
            ]
          },
          "metadata": {
            "tags": []
          },
          "execution_count": 7
        }
      ]
    },
    {
      "cell_type": "code",
      "metadata": {
        "id": "0zUVRoFJRhGu"
      },
      "source": [
        ""
      ],
      "execution_count": null,
      "outputs": []
    },
    {
      "cell_type": "code",
      "metadata": {
        "colab": {
          "base_uri": "https://localhost:8080/"
        },
        "id": "FkbyMrdTOjXZ",
        "outputId": "549e757d-9746-47af-b3be-0b21ce401c42"
      },
      "source": [
        "# Create the vine_table DataFrame\n",
        "vine_df = df.select(['review_id', 'star_rating', 'helpful_votes', 'total_votes', 'vine', 'verified_purchase']).drop_duplicates().dropna()\n",
        "vine_df.show()\n",
        "vine_df.count()"
      ],
      "execution_count": 12,
      "outputs": [
        {
          "output_type": "stream",
          "text": [
            "+--------------+-----------+-------------+-----------+----+-----------------+\n",
            "|     review_id|star_rating|helpful_votes|total_votes|vine|verified_purchase|\n",
            "+--------------+-----------+-------------+-----------+----+-----------------+\n",
            "|R2WYOW5FJN2E4I|          5|            0|          0|   N|                N|\n",
            "| RVP3NRG5JTZR7|          5|            0|          0|   N|                Y|\n",
            "|R1SH132MVL0CLB|          4|            0|          0|   N|                N|\n",
            "|R3L85PUNW3V73X|          4|            1|          1|   N|                N|\n",
            "|R28X8S4T59RYMN|          5|            0|          0|   N|                Y|\n",
            "|R2L6TXJGKC8UGO|          4|            1|          1|   N|                Y|\n",
            "|R10ZZUFOF1GPCA|          1|            1|          1|   N|                Y|\n",
            "|R1FPG5OGUT1CAY|          5|            1|          1|   N|                Y|\n",
            "|R34PXE0JU9CPOC|          3|            8|          8|   N|                Y|\n",
            "| R2HA7CHRRTUWH|          5|            1|          1|   N|                Y|\n",
            "| RD4XZXLLNYJIZ|          5|            0|          0|   N|                Y|\n",
            "|R1UJ3Q5QMU0I53|          5|            1|          1|   N|                Y|\n",
            "|R35X9RDVNO1LK6|          2|            0|          0|   N|                Y|\n",
            "|R2MW1AFBGK5LXI|          5|            0|          0|   N|                Y|\n",
            "|R304WYUOZYSP7F|          1|            0|          0|   N|                Y|\n",
            "|R10A74822TGO4C|          4|            0|          0|   N|                Y|\n",
            "|R3471VBMEURTJJ|          1|            1|          1|   N|                Y|\n",
            "|R21HC7LFCIBCM6|          4|            1|          3|   N|                Y|\n",
            "|R2LQUVBU8AOPAZ|          5|            1|          1|   N|                Y|\n",
            "|R33N4E0AIK29MM|          5|            1|          2|   N|                Y|\n",
            "+--------------+-----------+-------------+-----------+----+-----------------+\n",
            "only showing top 20 rows\n",
            "\n"
          ],
          "name": "stdout"
        },
        {
          "output_type": "execute_result",
          "data": {
            "text/plain": [
              "904763"
            ]
          },
          "metadata": {
            "tags": []
          },
          "execution_count": 12
        }
      ]
    },
    {
      "cell_type": "code",
      "metadata": {
        "colab": {
          "base_uri": "https://localhost:8080/"
        },
        "id": "CffdnfBYWJUc",
        "outputId": "1297a931-8c50-4e55-ca99-c211a36dff6c"
      },
      "source": [
        "# filter by total_votes being 20 or more\n",
        "vine_votes_df = vine_df.filter('total_votes>=20')\n",
        "vine_votes_df.show()\n",
        "vine_votes_df.count()"
      ],
      "execution_count": 38,
      "outputs": [
        {
          "output_type": "stream",
          "text": [
            "+--------------+-----------+-------------+-----------+----+-----------------+\n",
            "|     review_id|star_rating|helpful_votes|total_votes|vine|verified_purchase|\n",
            "+--------------+-----------+-------------+-----------+----+-----------------+\n",
            "|R1TB1H7N9N35M3|          5|           25|         31|   N|                Y|\n",
            "| RKYLHZL7EPELX|          4|           19|         25|   Y|                N|\n",
            "|R2V2O0OBZVHZV4|          5|           43|         44|   N|                Y|\n",
            "|R3RJZ6WEJWEVTW|          4|           22|         24|   N|                N|\n",
            "| RA229OUGA4JAF|          5|           26|         28|   N|                Y|\n",
            "| RDY3FINBWZEDG|          5|           26|         28|   N|                Y|\n",
            "|R2BOAXILS5AV6T|          5|           46|         48|   N|                N|\n",
            "| RC8JVI01ETSO5|          1|            0|         28|   N|                Y|\n",
            "|R3J7GKYADD0KCL|          4|           21|         22|   N|                Y|\n",
            "| RB1H5YH6HOIYP|          5|           22|         24|   N|                N|\n",
            "|R16EJZJVR8C4DN|          5|           13|         20|   N|                Y|\n",
            "|R3GVZIEF9SDZKG|          4|           24|         25|   N|                Y|\n",
            "|R3QKVD2KJ12909|          5|           33|         41|   N|                N|\n",
            "|R24N4XLWHPAGP3|          5|           75|         78|   N|                Y|\n",
            "| RWTDLVOLUQJ9C|          4|           65|         67|   N|                N|\n",
            "|R2FZYH8265CG6I|          1|           44|         65|   N|                N|\n",
            "| RS91L4YY7RRSZ|          3|           22|         23|   N|                Y|\n",
            "|R35V7QMH5K9RCO|          5|           34|         36|   N|                Y|\n",
            "| RH9DPAC8DN498|          5|           88|         92|   N|                Y|\n",
            "|R2AOWD6O4SBC7R|          5|          143|        169|   N|                Y|\n",
            "+--------------+-----------+-------------+-----------+----+-----------------+\n",
            "only showing top 20 rows\n",
            "\n"
          ],
          "name": "stdout"
        },
        {
          "output_type": "execute_result",
          "data": {
            "text/plain": [
              "16520"
            ]
          },
          "metadata": {
            "tags": []
          },
          "execution_count": 38
        }
      ]
    },
    {
      "cell_type": "code",
      "metadata": {
        "colab": {
          "base_uri": "https://localhost:8080/"
        },
        "id": "jAbrlQVdSIjs",
        "outputId": "05fc7979-0894-49ca-9695-020cb197821a"
      },
      "source": [
        "# filter new dataframe where the number of helpful_votes divided by total_votes is equal to or greater than 50%\n",
        "vine_helpful_df = vine_votes_df.filter('(helpful_votes/total_votes) >= 0.5')\n",
        "vine_helpful_df.show()\n",
        "vine_helpful_df.count()"
      ],
      "execution_count": 50,
      "outputs": [
        {
          "output_type": "stream",
          "text": [
            "+--------------+-----------+-------------+-----------+----+-----------------+\n",
            "|     review_id|star_rating|helpful_votes|total_votes|vine|verified_purchase|\n",
            "+--------------+-----------+-------------+-----------+----+-----------------+\n",
            "|R1TB1H7N9N35M3|          5|           25|         31|   N|                Y|\n",
            "| RKYLHZL7EPELX|          4|           19|         25|   Y|                N|\n",
            "|R2V2O0OBZVHZV4|          5|           43|         44|   N|                Y|\n",
            "|R3RJZ6WEJWEVTW|          4|           22|         24|   N|                N|\n",
            "| RA229OUGA4JAF|          5|           26|         28|   N|                Y|\n",
            "| RDY3FINBWZEDG|          5|           26|         28|   N|                Y|\n",
            "|R2BOAXILS5AV6T|          5|           46|         48|   N|                N|\n",
            "|R3J7GKYADD0KCL|          4|           21|         22|   N|                Y|\n",
            "| RB1H5YH6HOIYP|          5|           22|         24|   N|                N|\n",
            "|R16EJZJVR8C4DN|          5|           13|         20|   N|                Y|\n",
            "|R3GVZIEF9SDZKG|          4|           24|         25|   N|                Y|\n",
            "|R3QKVD2KJ12909|          5|           33|         41|   N|                N|\n",
            "|R24N4XLWHPAGP3|          5|           75|         78|   N|                Y|\n",
            "| RWTDLVOLUQJ9C|          4|           65|         67|   N|                N|\n",
            "|R2FZYH8265CG6I|          1|           44|         65|   N|                N|\n",
            "| RS91L4YY7RRSZ|          3|           22|         23|   N|                Y|\n",
            "|R35V7QMH5K9RCO|          5|           34|         36|   N|                Y|\n",
            "| RH9DPAC8DN498|          5|           88|         92|   N|                Y|\n",
            "|R2AOWD6O4SBC7R|          5|          143|        169|   N|                Y|\n",
            "|R1MNGCCS86S3MB|          5|           21|         23|   N|                N|\n",
            "+--------------+-----------+-------------+-----------+----+-----------------+\n",
            "only showing top 20 rows\n",
            "\n"
          ],
          "name": "stdout"
        },
        {
          "output_type": "execute_result",
          "data": {
            "text/plain": [
              "14537"
            ]
          },
          "metadata": {
            "tags": []
          },
          "execution_count": 50
        }
      ]
    },
    {
      "cell_type": "code",
      "metadata": {
        "colab": {
          "base_uri": "https://localhost:8080/"
        },
        "id": "oyfknKvvb4O6",
        "outputId": "048d22c5-2ecf-4e58-b121-c185d1fa5348"
      },
      "source": [
        "# filter newer dataframe where a review was written as part of the Vine program (paid)\n",
        "vine_paid_df = vine_helpful_df.filter(vine_helpful_df[\"vine\"] == \"Y\")\n",
        "vine_paid_df.show()\n",
        "vine_paid_df.count()"
      ],
      "execution_count": 51,
      "outputs": [
        {
          "output_type": "stream",
          "text": [
            "+--------------+-----------+-------------+-----------+----+-----------------+\n",
            "|     review_id|star_rating|helpful_votes|total_votes|vine|verified_purchase|\n",
            "+--------------+-----------+-------------+-----------+----+-----------------+\n",
            "| RKYLHZL7EPELX|          4|           19|         25|   Y|                N|\n",
            "|R3QQG4HUB214TM|          5|          111|        128|   Y|                N|\n",
            "|R19EFYNN3W8Q07|          5|           26|         32|   Y|                N|\n",
            "|R2SW4NXNO7HZJ5|          4|           28|         33|   Y|                N|\n",
            "|R2XWB7UZBANOS3|          4|           18|         20|   Y|                N|\n",
            "| RYW05F1MUEF01|          5|           87|        102|   Y|                N|\n",
            "| RARYFB85E8YSK|          5|           25|         31|   Y|                N|\n",
            "|R2VRYZV3N49TJ0|          4|           29|         33|   Y|                N|\n",
            "|R22CYBPLKWDK6F|          5|           47|         54|   Y|                N|\n",
            "| RP24DFOZY82Z9|          5|           24|         26|   Y|                N|\n",
            "|R2UJHZ50AMCITI|          5|           22|         22|   Y|                N|\n",
            "| RFCV9QXJ3D79X|          3|           20|         22|   Y|                N|\n",
            "| RAGY9ISHYAS08|          4|           19|         22|   Y|                N|\n",
            "|R13PPTBWWV10Q6|          5|           19|         25|   Y|                N|\n",
            "| RX4P0ENQPW8JW|          3|           20|         24|   Y|                N|\n",
            "|R2E9VZB3I4LSN5|          5|           55|         59|   Y|                N|\n",
            "| RMCGLOIUS31A0|          5|           22|         30|   Y|                N|\n",
            "|R295FZN1I3KSQM|          5|           71|         75|   Y|                N|\n",
            "|R30FS6HFPQ1WKT|          5|           41|         44|   Y|                N|\n",
            "|R3J9OSJNJB7KGM|          5|           70|         80|   Y|                N|\n",
            "+--------------+-----------+-------------+-----------+----+-----------------+\n",
            "only showing top 20 rows\n",
            "\n"
          ],
          "name": "stdout"
        },
        {
          "output_type": "execute_result",
          "data": {
            "text/plain": [
              "60"
            ]
          },
          "metadata": {
            "tags": []
          },
          "execution_count": 51
        }
      ]
    },
    {
      "cell_type": "code",
      "metadata": {
        "colab": {
          "base_uri": "https://localhost:8080/"
        },
        "id": "HhR7XkOThQPP",
        "outputId": "5d18db0b-be5b-4501-b9d1-390d4b8a5e90"
      },
      "source": [
        "# filter newer dataframe where a review was not written as part of the Vine program (unpaid)\n",
        "vine_unpaid_df = vine_helpful_df.filter(vine_helpful_df[\"vine\"] == \"N\")\n",
        "vine_unpaid_df.show()\n",
        "vine_unpaid_df.count()"
      ],
      "execution_count": 52,
      "outputs": [
        {
          "output_type": "stream",
          "text": [
            "+--------------+-----------+-------------+-----------+----+-----------------+\n",
            "|     review_id|star_rating|helpful_votes|total_votes|vine|verified_purchase|\n",
            "+--------------+-----------+-------------+-----------+----+-----------------+\n",
            "|R1TB1H7N9N35M3|          5|           25|         31|   N|                Y|\n",
            "|R2V2O0OBZVHZV4|          5|           43|         44|   N|                Y|\n",
            "|R3RJZ6WEJWEVTW|          4|           22|         24|   N|                N|\n",
            "| RA229OUGA4JAF|          5|           26|         28|   N|                Y|\n",
            "| RDY3FINBWZEDG|          5|           26|         28|   N|                Y|\n",
            "|R2BOAXILS5AV6T|          5|           46|         48|   N|                N|\n",
            "|R3J7GKYADD0KCL|          4|           21|         22|   N|                Y|\n",
            "| RB1H5YH6HOIYP|          5|           22|         24|   N|                N|\n",
            "|R16EJZJVR8C4DN|          5|           13|         20|   N|                Y|\n",
            "|R3GVZIEF9SDZKG|          4|           24|         25|   N|                Y|\n",
            "|R3QKVD2KJ12909|          5|           33|         41|   N|                N|\n",
            "|R24N4XLWHPAGP3|          5|           75|         78|   N|                Y|\n",
            "| RWTDLVOLUQJ9C|          4|           65|         67|   N|                N|\n",
            "|R2FZYH8265CG6I|          1|           44|         65|   N|                N|\n",
            "| RS91L4YY7RRSZ|          3|           22|         23|   N|                Y|\n",
            "|R35V7QMH5K9RCO|          5|           34|         36|   N|                Y|\n",
            "| RH9DPAC8DN498|          5|           88|         92|   N|                Y|\n",
            "|R2AOWD6O4SBC7R|          5|          143|        169|   N|                Y|\n",
            "|R1MNGCCS86S3MB|          5|           21|         23|   N|                N|\n",
            "|R3DZ27KL3EOX2B|          4|           35|         39|   N|                N|\n",
            "+--------------+-----------+-------------+-----------+----+-----------------+\n",
            "only showing top 20 rows\n",
            "\n"
          ],
          "name": "stdout"
        },
        {
          "output_type": "execute_result",
          "data": {
            "text/plain": [
              "14477"
            ]
          },
          "metadata": {
            "tags": []
          },
          "execution_count": 52
        }
      ]
    },
    {
      "cell_type": "code",
      "metadata": {
        "colab": {
          "base_uri": "https://localhost:8080/"
        },
        "id": "m4t2TJnSk_rC",
        "outputId": "0b141147-a146-4712-8f53-57e9b7afaa2a"
      },
      "source": [
        "# Review counts\n",
        "print(\"The total number of reviews are \" + str(vine_df.count()))\n",
        "\n",
        "print(\"The total number of Vine reviews with the above criterias are \" + str(vine_helpful_df.count()))"
      ],
      "execution_count": 53,
      "outputs": [
        {
          "output_type": "stream",
          "text": [
            "The total number of reviews are 904763\n",
            "The total number of Vine reviews with the above criterias are 14537\n"
          ],
          "name": "stdout"
        }
      ]
    },
    {
      "cell_type": "code",
      "metadata": {
        "colab": {
          "base_uri": "https://localhost:8080/"
        },
        "id": "RrhDhSjJreOp",
        "outputId": "e7c48814-74aa-4c8a-d5f9-da3103316d2e"
      },
      "source": [
        "# 5-star paid vine reviews \n",
        "print(\"The number of 5-star Paid vine reviews are \" \n",
        "      + str(vine_paid_df.filter(vine_helpful_df[\"star_rating\"] == \"5\").count()))\n",
        "\n",
        "print(\"The percentage of 5-star Paid vine reviews to Vine reviews is \" \n",
        "      + str(vine_paid_df.filter(vine_helpful_df[\"star_rating\"] == \"5\").count() / vine_helpful_df.count() *100) + '%')\n",
        "\n",
        "print(\"The percentage of 5-star Paid vine to total number of reviews is \" \n",
        "      + str(vine_paid_df.filter(vine_helpful_df[\"star_rating\"] == \"5\").count() / vine_df.count() *100) + '%')"
      ],
      "execution_count": 54,
      "outputs": [
        {
          "output_type": "stream",
          "text": [
            "The number of 5-star Paid vine reviews are 34\n",
            "The percentage of 5-star Paid vine reviews to Vine reviews is 0.23388594620623238%\n",
            "The percentage of 5-star Paid vine to total number of reviews is 0.0037578901878171415%\n"
          ],
          "name": "stdout"
        }
      ]
    },
    {
      "cell_type": "code",
      "metadata": {
        "colab": {
          "base_uri": "https://localhost:8080/"
        },
        "id": "KBSsiWwgu_Ft",
        "outputId": "a9bbe53c-5d68-4c16-e0be-c7841fe1d484"
      },
      "source": [
        "# 5-star unpaid vine reviews \n",
        "print(\"The number of 5-star Unpaid vine reviews are \" \n",
        "      + str(vine_unpaid_df.filter(vine_helpful_df[\"star_rating\"] == \"5\").count()))\n",
        "\n",
        "print(\"The percentage of 5-star Unpaid vine reviews to Vine reviews is \" \n",
        "      + str(vine_unpaid_df.filter(vine_helpful_df[\"star_rating\"] == \"5\").count() / vine_helpful_df.count() *100) + '%')\n",
        "\n",
        "print(\"The percentage of 5-star Unpaid vine to total number of reviews is \" \n",
        "      + str(vine_unpaid_df.filter(vine_helpful_df[\"star_rating\"] == \"5\").count() / vine_df.count() *100) + '%')"
      ],
      "execution_count": 55,
      "outputs": [
        {
          "output_type": "stream",
          "text": [
            "The number of 5-star Unpaid vine reviews are 8212\n",
            "The percentage of 5-star Unpaid vine reviews to Vine reviews is 56.490335007222946%\n",
            "The percentage of 5-star Unpaid vine to total number of reviews is 0.9076410065398341%\n"
          ],
          "name": "stdout"
        }
      ]
    },
    {
      "cell_type": "code",
      "metadata": {
        "id": "cFRKyEQf4xGu"
      },
      "source": [
        ""
      ],
      "execution_count": null,
      "outputs": []
    }
  ]
}